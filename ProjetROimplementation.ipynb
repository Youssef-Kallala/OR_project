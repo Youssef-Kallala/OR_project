{
 "cells": [
  {
   "cell_type": "code",
   "execution_count": 166,
   "metadata": {},
   "outputs": [],
   "source": [
    "import networkx as nx\n",
    "import matplotlib.pyplot as plt\n",
    "from pyvis.network import Network\n",
    "import random\n",
    "import time"
   ]
  },
  {
   "cell_type": "code",
   "execution_count": 167,
   "metadata": {},
   "outputs": [
    {
     "data": {
      "image/png": "[encoded data removed]",
      "text/plain": [
       "<Figure size 640x480 with 1 Axes>"
      ]
     },
     "metadata": {},
     "output_type": "display_data"
    }
   ],
   "source": [
    "import networkx as nx\n",
    "import matplotlib.pyplot as plt\n",
    "\n",
    "# Create a graph\n",
    "G = nx.Graph()\n",
    "G.add_edges_from([(1, 2), (1, 3), (2, 4), (3, 4), (4, 5)])\n",
    "\n",
    "# Choose special edges\n",
    "special_edges = [(2, 4)]\n",
    "\n",
    "# Build color list\n",
    "edge_colors = ['red' if edge in special_edges or (edge[1], edge[0]) in special_edges else 'gray' for edge in G.edges()]\n",
    "\n",
    "# Draw graph\n",
    "pos = nx.spring_layout(G)  # layout for consistent positions\n",
    "nx.draw(G, pos, with_labels=True, edge_color=edge_colors, node_color='skyblue', node_size=700)\n",
    "plt.show()\n"
   ]
  },
  {
   "cell_type": "code",
   "execution_count": 168,
   "metadata": {},
   "outputs": [],
   "source": [
    "class graph:\n",
    "    def __init__(self, n):\n",
    "        self.n = n\n",
    "        self.edges = []\n",
    "        self.adj = [[] for _ in range(n+1)]  # nodes 1..n\n",
    "\n",
    "    def add_edge(self, u, v, w=0):\n",
    "        self.adj[u].append((v, w))\n",
    "        self.edges.append((u, v, w))\n",
    "    \n",
    "    def bfs(self, s):\n",
    "        l = [s]\n",
    "        r = [s]\n",
    "        vis = [0]*(self.n+1)\n",
    "        vis[s] = 1\n",
    "        while l:\n",
    "            x = l.pop(0)\n",
    "            for v, _ in self.adj[x]:\n",
    "                if not vis[v]:\n",
    "                    vis[v] = 1\n",
    "                    l.append(v)\n",
    "                    r.append(v)\n",
    "        return r"
   ]
  },
  {
   "cell_type": "code",
   "execution_count": 169,
   "metadata": {},
   "outputs": [],
   "source": [
    "class DP_Hamiltionpath:\n",
    "    def __init__(self, g, source, sink):\n",
    "        self.g = g\n",
    "        self.n = g.n \n",
    "        self.dp = [[-1]*(1 << (self.n+1)) for _ in range(self.n+1)]\n",
    "        self.source = source\n",
    "        self.sink = sink\n",
    "    \n",
    "    def DP_compute(self, i, mask):\n",
    "        if mask == (1 << i) and i == self.sink:  # only sink node left\n",
    "            return 1\n",
    "        if i == self.sink:  # reached sink but other nodes remain\n",
    "            return 0\n",
    "        if self.dp[i][mask] != -1:\n",
    "            return self.dp[i][mask]\n",
    "        \n",
    "        res = 0\n",
    "        for v, _ in self.g.adj[i]:\n",
    "            if mask & (1 << v):\n",
    "                res = max(res, self.DP_compute(v, mask ^ (1 << i)))\n",
    "        self.dp[i][mask] = res\n",
    "        return res\n",
    "    \n",
    "    def _get(self):\n",
    "        mask = (1 << (self.n+1))-1 \n",
    "        mask^=(1<<self.source)\n",
    "        return self.DP_compute(self.source, mask)\n",
    "    def _get_path(self):\n",
    "        mask = (1 << (self.n + 1)) - 2  # Initial mask with bits 1..n set\n",
    "        if self.DP_compute(self.source, mask) == 0:\n",
    "            return []  # No Hamiltonian path exists\n",
    "        \n",
    "        path = []\n",
    "        current_node = self.source\n",
    "        current_mask = mask\n",
    "        \n",
    "        while current_node != self.sink:\n",
    "            path.append(current_node)\n",
    "            found = False\n",
    "            for v, _ in self.g.adj[current_node]:\n",
    "                if (current_mask & (1 << v)) and self.dp[v][current_mask ^ (1 << current_node)] == 1:\n",
    "                    current_mask ^= (1 << current_node)\n",
    "                    current_node = v\n",
    "                    found = True\n",
    "                    break\n",
    "            if not found:\n",
    "                break  # Shouldn't happen if Hamiltonian path exists\n",
    "        \n",
    "        path.append(self.sink)\n",
    "        return path\n",
    "    \n"
   ]
  },
  {
   "cell_type": "code",
   "execution_count": 170,
   "metadata": {},
   "outputs": [
    {
     "name": "stdout",
     "output_type": "stream",
     "text": [
      "0\n",
      "[2, 3, 4, 5, 1]\n"
     ]
    }
   ],
   "source": [
    "g=graph(5)\n",
    "g.add_edge(1,2)\n",
    "g.add_edge(2,1)\n",
    "g.add_edge(2,3)\n",
    "g.add_edge(3,2)\n",
    "g.add_edge(3,4)\n",
    "g.add_edge(4,3)\n",
    "g.add_edge(4,5)\n",
    "g.add_edge(5,4)\n",
    "g.add_edge(2,5)\n",
    "g.add_edge(2,4)\n",
    "g.add_edge(5,3)\n",
    "g.add_edge(5,1)\n",
    "dp_solver=DP_Hamiltionpath(g,2,1)\n",
    "print(dp_solver._get())\n",
    "print(dp_solver._get_path())\n"
   ]
  },
  {
   "cell_type": "code",
   "execution_count": 171,
   "metadata": {},
   "outputs": [
    {
     "name": "stdout",
     "output_type": "stream",
     "text": [
      "[(2, 3), (3, 4), (4, 5), (5, 1)]\n"
     ]
    }
   ],
   "source": [
    "G_nx = nx.Graph()\n",
    "\n",
    "# Add all nodes\n",
    "for u in range(1, g.n + 1):\n",
    "    G_nx.add_node(u)\n",
    "\n",
    "# Add all edges\n",
    "for u, v, w in g.edges:\n",
    "    G_nx.add_edge(u, v)\n",
    "nodes=dp_solver._get_path()\n",
    "path=[]\n",
    "for i in range(len(nodes)-1):\n",
    "    path.append((nodes[i],nodes[i+1]))\n",
    "print(path)"
   ]
  },
  {
   "cell_type": "code",
   "execution_count": 172,
   "metadata": {},
   "outputs": [
    {
     "data": {
      "image/png": "[encoded data removed]",
      "text/plain": [
       "<Figure size 640x480 with 1 Axes>"
      ]
     },
     "metadata": {},
     "output_type": "display_data"
    }
   ],
   "source": [
    "# Prepare edge colors\n",
    "edge_colors = []\n",
    "for u, v in G_nx.edges():\n",
    "    if (u, v) in path or (v, u) in path:\n",
    "        edge_colors.append('red')  # Hamiltonian path edges in red\n",
    "    else:\n",
    "        edge_colors.append('gray')  # Other edges in gray\n",
    "\n",
    "# Draw\n",
    "pos = nx.spring_layout(G_nx)  # layout\n",
    "nx.draw(G_nx, pos, with_labels=True, edge_color=edge_colors, node_color='skyblue', node_size=700, width=2)\n",
    "plt.show()\n"
   ]
  },
  {
   "cell_type": "code",
   "execution_count": 173,
   "metadata": {},
   "outputs": [],
   "source": [
    "class LCT:\n",
    "  def __init__(self, n):\n",
    "    # Initialize the Link-Cut Tree with n nodes\n",
    "    self.n = n\n",
    "    self.ch = [[0, 0] for i in range(n + 1)]  # Children array\n",
    "    self.fa = [0 for i in range(n + 1)]  # Parent array\n",
    "    self.rev = [0 for i in range(n + 1)]  # Reverse flag array\n",
    "\n",
    "  def isr(self, a):\n",
    "    # Check if node a is a root of its splay tree\n",
    "    return not (self.ch[self.fa[a]][0] == a or self.ch[self.fa[a]][1] == a)\n",
    "\n",
    "  def pushdown(self, a):\n",
    "    # Propagate the reverse operation down the tree\n",
    "    if self.rev[a]:\n",
    "      self.rev[self.ch[a][0]] ^= 1\n",
    "      self.rev[self.ch[a][1]] ^= 1\n",
    "      self.ch[a][0], self.ch[a][1] = self.ch[a][1], self.ch[a][0]  # Swap children\n",
    "      self.rev[a] = 0\n",
    "\n",
    "  def push(self, a):\n",
    "    # Push changes down to ensure the node a is up-to-date\n",
    "    if not self.isr(a):\n",
    "      self.push(self.fa[a])\n",
    "    self.pushdown(a)\n",
    "\n",
    "  def rotate(self, a):\n",
    "    # Perform a rotation on node a\n",
    "    f = self.fa[a]\n",
    "    gf = self.fa[f]\n",
    "    tp = self.ch[f][1] == a\n",
    "    son = self.ch[a][tp ^ 1]\n",
    "    if not self.isr(f):\n",
    "      self.ch[gf][self.ch[gf][1] == f] = a\n",
    "    self.fa[a] = gf\n",
    "    self.ch[f][tp] = son\n",
    "    if son:\n",
    "      self.fa[son] = f\n",
    "    self.ch[a][tp ^ 1] = f\n",
    "    self.fa[f] = a\n",
    "\n",
    "  def splay(self, a):\n",
    "    self.push(a)\n",
    "    while not self.isr(a):\n",
    "        f = self.fa[a]\n",
    "        gf = self.fa[f]\n",
    "        if self.isr(f):\n",
    "            self.rotate(a)\n",
    "        else:\n",
    "            tp1 = (self.ch[gf][1] == f)\n",
    "            tp2 = (self.ch[f][1] == a)\n",
    "            if tp1 == tp2:\n",
    "                self.rotate(f)\n",
    "                self.rotate(a)\n",
    "            else:\n",
    "                self.rotate(a)\n",
    "                self.rotate(a)\n",
    "\n",
    "\n",
    "  def access(self, a):\n",
    "    # Make node a the root of the preferred path\n",
    "    pr = a\n",
    "    self.splay(a)\n",
    "    self.ch[a][1] = 0\n",
    "    while True:\n",
    "      if self.fa[a]==0:\n",
    "        break\n",
    "      f = self.fa[a]\n",
    "      self.splay(f)\n",
    "      self.ch[f][1]=a\n",
    "      a=f\n",
    "    self.splay(pr)\n",
    "\n",
    "  def makeroot(self, a):\n",
    "    # Make node a the root of the entire tree\n",
    "    self.access(a)\n",
    "    self.rev[a] ^= 1\n",
    "\n",
    "  def link(self, a, b):\n",
    "    # Link node a to node b\n",
    "    self.makeroot(a)\n",
    "    self.fa[a] = b\n",
    "\n",
    "  def cut(self, a, b):\n",
    "    # Cut the connection between node a and node b\n",
    "    self.makeroot(a)\n",
    "    self.access(b)\n",
    "    self.fa[a] = 0\n",
    "    self.ch[b][0]=0\n",
    "\n",
    "  def fdr(self, a):\n",
    "    # Find the root of the tree containing node a\n",
    "    self.access(a)\n",
    "    while True:\n",
    "      self.pushdown(a)\n",
    "      if self.ch[a][0]:\n",
    "        a = self.ch[a][0]\n",
    "      else:\n",
    "        self.splay(a)\n",
    "        return a\n",
    "  "
   ]
  },
  {
   "cell_type": "code",
   "execution_count": 174,
   "metadata": {},
   "outputs": [],
   "source": [
    "def hamiltonian(n,edges,mx_ch=-1):\n",
    "    #mx_ch : max number of adding/replacing  default is (n + 100) * (n + 50) \n",
    "    # n : number of vertices. 1-indexed. \n",
    "    # eg: vector<pair<int, int> > storing all the edges. \n",
    "    # return a vector<int> consists of all indices of vertices on the path. return empty list if failed to find one. \n",
    "    out=[0 for _ in range(n+1)]\n",
    "    ine=[0 for _ in range(n+1)]\n",
    "    lc=LCT(n)\n",
    "    if mx_ch == -1: \n",
    "        mx_ch = (n + 100) * (n + 50)\n",
    "    frm=[[] for  _ in range(n+1)]\n",
    "    to=[[] for  _ in range(n+1)]\n",
    "    for u,v in edges:\n",
    "        frm[u].append(v)\n",
    "        to[v].append(u)\n",
    "    canin = set()\n",
    "    canout=set()\n",
    "    for i in range(1,n+1):\n",
    "        canin.add(i)\n",
    "        canout.add(i)\n",
    "    tot=0\n",
    "    while mx_ch>=0:\n",
    "        eg=[]\n",
    "        for v in canout:\n",
    "            for s in frm[v]:\n",
    "                if ine[s]==0:\n",
    "                    assert(s in canin)\n",
    "                    continue\n",
    "                else:\n",
    "                    eg.append((v,s))\n",
    "        for v in canin:\n",
    "            for s in to[v]:\n",
    "                eg.append((s,v))\n",
    "        random.shuffle(eg)\n",
    "        if len(eg)==0:\n",
    "            break\n",
    "        for u,v in eg:\n",
    "            mx_ch-=1\n",
    "            if ine[v] and out[u]:\n",
    "                continue\n",
    "            if lc.fdr(u)==lc.fdr(v):\n",
    "                continue\n",
    "            if ine[v] or out[u]:\n",
    "                if random.choice([0,1]):\n",
    "                    continue\n",
    "            if ine[v]==0 and  out[u]==0 :\n",
    "                tot+=1\n",
    "            if ine[v]:\n",
    "                lc.cut(ine[v],v)\n",
    "                canin.add(v)\n",
    "                canout.add(ine[v])\n",
    "                out[ine[v]] = 0\n",
    "                ine[v] = 0\n",
    "            if out[u]:\n",
    "                lc.cut(u,out[u])\n",
    "                canin.add(out[u])\n",
    "                canout.add(u)\n",
    "                ine[out[u]]=0\n",
    "                out[u]=0\n",
    "            lc.link(u,v)\n",
    "            canin.remove(v)\n",
    "            canout.remove(u)\n",
    "            ine[v]=u\n",
    "            out[u]=v\n",
    "    if tot==n-1:\n",
    "        cur=[]\n",
    "        for i in range(1,n+1):\n",
    "            if ine[i]==0:\n",
    "                pl=i\n",
    "                while(pl>0):\n",
    "                    cur.append(pl)\n",
    "                    pl=out[pl]\n",
    "                break\n",
    "        return cur\n",
    "    return  []\n"
   ]
  },
  {
   "cell_type": "code",
   "execution_count": 177,
   "metadata": {},
   "outputs": [
    {
     "name": "stdout",
     "output_type": "stream",
     "text": [
      "=== Test 1: Straight Path ===\n",
      "[1, 2, 3, 4, 5, 6, 8, 7]\n"
     ]
    }
   ],
   "source": [
    "\n",
    "# Paste your corrected LCT and hamiltonian code here\n",
    "\n",
    "# Test Case 1: Straight path\n",
    "print(\"=== Test 1: Straight Path ===\")\n",
    "edges = [(2,3),(3,4),(4,5),(5,6),(6,8),(8,7),(1,8),(1,2),(2,5),(3,6),(3,7)]\n",
    "n = 8\n",
    "print(hamiltonian(n, edges))\n",
    "\n"
   ]
  },
  {
   "cell_type": "code",
   "execution_count": null,
   "metadata": {},
   "outputs": [],
   "source": []
  },
  {
   "cell_type": "code",
   "execution_count": null,
   "metadata": {},
   "outputs": [],
   "source": []
  },
  {
   "cell_type": "code",
   "execution_count": null,
   "metadata": {},
   "outputs": [],
   "source": []
  },
  {
   "cell_type": "code",
   "execution_count": null,
   "metadata": {},
   "outputs": [],
   "source": []
  },
  {
   "cell_type": "code",
   "execution_count": null,
   "metadata": {},
   "outputs": [],
   "source": []
  },
  {
   "cell_type": "code",
   "execution_count": null,
   "metadata": {},
   "outputs": [],
   "source": []
  },
  {
   "cell_type": "code",
   "execution_count": null,
   "metadata": {},
   "outputs": [],
   "source": []
  },
  {
   "cell_type": "code",
   "execution_count": null,
   "metadata": {},
   "outputs": [],
   "source": []
  },
  {
   "cell_type": "code",
   "execution_count": null,
   "metadata": {},
   "outputs": [],
   "source": []
  },
  {
   "cell_type": "code",
   "execution_count": null,
   "metadata": {},
   "outputs": [],
   "source": []
  },
  {
   "cell_type": "code",
   "execution_count": null,
   "metadata": {},
   "outputs": [],
   "source": []
  },
  {
   "cell_type": "code",
   "execution_count": null,
   "metadata": {},
   "outputs": [],
   "source": []
  },
  {
   "cell_type": "code",
   "execution_count": null,
   "metadata": {},
   "outputs": [],
   "source": []
  },
  {
   "cell_type": "code",
   "execution_count": null,
   "metadata": {},
   "outputs": [],
   "source": []
  },
  {
   "cell_type": "code",
   "execution_count": null,
   "metadata": {},
   "outputs": [],
   "source": []
  },
  {
   "cell_type": "code",
   "execution_count": null,
   "metadata": {},
   "outputs": [],
   "source": []
  },
  {
   "cell_type": "code",
   "execution_count": null,
   "metadata": {},
   "outputs": [],
   "source": []
  },
  {
   "cell_type": "code",
   "execution_count": null,
   "metadata": {},
   "outputs": [],
   "source": []
  },
  {
   "cell_type": "code",
   "execution_count": null,
   "metadata": {},
   "outputs": [],
   "source": []
  },
  {
   "cell_type": "code",
   "execution_count": null,
   "metadata": {},
   "outputs": [],
   "source": []
  }
 ],
 "metadata": {
  "kernelspec": {
   "display_name": "Python 3",
   "language": "python",
   "name": "python3"
  },
  "language_info": {
   "codemirror_mode": {
    "name": "ipython",
    "version": 3
   },
   "file_extension": ".py",
   "mimetype": "text/x-python",
   "name": "python",
   "nbconvert_exporter": "python",
   "pygments_lexer": "ipython3",
   "version": "3.12.5"
  }
 },
 "nbformat": 4,
 "nbformat_minor": 2
}
